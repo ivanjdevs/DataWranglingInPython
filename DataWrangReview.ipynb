{
 "cells": [
  {
   "cell_type": "markdown",
   "id": "e43f5dbb-fe7a-4819-b639-413db90f015f",
   "metadata": {},
   "source": [
    "<h1 align=right><font size = 2>Author: ivanjdevs</font></h1>"
   ]
  },
  {
   "cell_type": "markdown",
   "id": "eb6f78d5-7c8a-490f-aefb-2b338614f531",
   "metadata": {},
   "source": [
    "<h1 align=center><font size = 6>Data Wrangling</font></h1>"
   ]
  },
  {
   "cell_type": "markdown",
   "id": "6c847bd0-3aff-4f86-9181-92a8d100b115",
   "metadata": {},
   "source": [
    "<h3> ¿Qué es esa vuelta del data wrangling? </h3>"
   ]
  },
  {
   "cell_type": "markdown",
   "id": "bc730d6b-e671-4796-af44-a467296c6123",
   "metadata": {},
   "source": [
    "Data wrangling es el proceso de convertir los datos, mediante una serie de pasos, de un formato a otro que se considera mejor para su análisis."
   ]
  },
  {
   "cell_type": "markdown",
   "id": "24b5f086-68ac-45d3-baa9-d94a9579b725",
   "metadata": {},
   "source": [
    "<h4> ¿Cuáles son esos pasos?</h4>\n",
    "\n",
    "<h5> Pueden haber diferentes enfoques, pero en general los pasos principales son los siguientes:</h5>\n",
    "\n",
    "<ul>\n",
    "    \n",
    "<li>Identificar y manejar valores faltantes (Identify and handle missing values)</li>\n",
    "<li>Corregir el formato de los datos (Data formatting)</li>\n",
    "<li>Normalización de los datos: centrado/escalado (Data normalization: centering/scaling)</li>\n",
    "<li>Discretización (Binning)</li>\n",
    "\n",
    "\n",
    "<ul>"
   ]
  },
  {
   "cell_type": "markdown",
   "id": "49ac7244-3216-4359-8ec3-bddf6d3d70e9",
   "metadata": {},
   "source": [
    "<h5> Let's take a dataset and run it through the steps above.</h5>"
   ]
  },
  {
   "cell_type": "code",
   "execution_count": 143,
   "id": "b5b641cb-f9dd-4e73-9335-215d9d6bb716",
   "metadata": {},
   "outputs": [],
   "source": [
    "# Importar la librería pandas que nos ofrece un casi ilimitado número de herramientas para manejar datasets y numpy para temas de arrays  op. numéricas.\n",
    "import pandas as pd\n",
    "import numpy as np"
   ]
  },
  {
   "cell_type": "markdown",
   "id": "14d408d4-246c-45c5-8b56-1a8e368f9edf",
   "metadata": {},
   "source": [
    "##### El achivo que se va a trabajar esta en la web. Viene en formato csv (Comma separated value)"
   ]
  },
  {
   "cell_type": "code",
   "execution_count": 144,
   "id": "2b8a78cc-30c5-4e7f-a5c4-a7a069f62196",
   "metadata": {},
   "outputs": [],
   "source": [
    "## Guardando la url donde está contenido el archivo que en una variable\n",
    "loc=\"https://s3-api.us-geo.objectstorage.softlayer.net/cf-courses-data/CognitiveClass/DA0101EN/auto.csv\""
   ]
  },
  {
   "cell_type": "code",
   "execution_count": 145,
   "id": "88165aa2-12c1-49ef-9075-ced3098c7fca",
   "metadata": {},
   "outputs": [],
   "source": [
    "headers = [\"symboling\",\"normalized-losses\",\"make\",\"fuel-type\",\"aspiration\", \"num-of-doors\",\"body-style\",\n",
    "         \"drive-wheels\",\"engine-location\",\"wheel-base\", \"length\",\"width\",\"height\",\"curb-weight\",\"engine-type\",\n",
    "         \"num-of-cylinders\", \"engine-size\",\"fuel-system\",\"bore\",\"stroke\",\"compression-ratio\",\"horsepower\",\n",
    "         \"peak-rpm\",\"city-mpg\",\"highway-mpg\",\"price\"]"
   ]
  },
  {
   "cell_type": "code",
   "execution_count": 146,
   "id": "fd2bf1b3-b005-4cb1-9f9f-44693bd2be82",
   "metadata": {},
   "outputs": [],
   "source": [
    "##Cargando el dataset en una variable (puede darle a la variable el nombre que se le de la gana)\n",
    "dcars = pd.read_csv(loc, names = headers)"
   ]
  },
  {
   "cell_type": "code",
   "execution_count": 147,
   "id": "17def1ff-74cd-4547-b763-8960765053ef",
   "metadata": {},
   "outputs": [
    {
     "data": {
      "text/html": [
       "<div>\n",
       "<style scoped>\n",
       "    .dataframe tbody tr th:only-of-type {\n",
       "        vertical-align: middle;\n",
       "    }\n",
       "\n",
       "    .dataframe tbody tr th {\n",
       "        vertical-align: top;\n",
       "    }\n",
       "\n",
       "    .dataframe thead th {\n",
       "        text-align: right;\n",
       "    }\n",
       "</style>\n",
       "<table border=\"1\" class=\"dataframe\">\n",
       "  <thead>\n",
       "    <tr style=\"text-align: right;\">\n",
       "      <th></th>\n",
       "      <th>symboling</th>\n",
       "      <th>normalized-losses</th>\n",
       "      <th>make</th>\n",
       "      <th>fuel-type</th>\n",
       "      <th>aspiration</th>\n",
       "      <th>num-of-doors</th>\n",
       "      <th>body-style</th>\n",
       "      <th>drive-wheels</th>\n",
       "      <th>engine-location</th>\n",
       "      <th>wheel-base</th>\n",
       "      <th>...</th>\n",
       "      <th>engine-size</th>\n",
       "      <th>fuel-system</th>\n",
       "      <th>bore</th>\n",
       "      <th>stroke</th>\n",
       "      <th>compression-ratio</th>\n",
       "      <th>horsepower</th>\n",
       "      <th>peak-rpm</th>\n",
       "      <th>city-mpg</th>\n",
       "      <th>highway-mpg</th>\n",
       "      <th>price</th>\n",
       "    </tr>\n",
       "  </thead>\n",
       "  <tbody>\n",
       "    <tr>\n",
       "      <th>0</th>\n",
       "      <td>3</td>\n",
       "      <td>?</td>\n",
       "      <td>alfa-romero</td>\n",
       "      <td>gas</td>\n",
       "      <td>std</td>\n",
       "      <td>two</td>\n",
       "      <td>convertible</td>\n",
       "      <td>rwd</td>\n",
       "      <td>front</td>\n",
       "      <td>88.6</td>\n",
       "      <td>...</td>\n",
       "      <td>130</td>\n",
       "      <td>mpfi</td>\n",
       "      <td>3.47</td>\n",
       "      <td>2.68</td>\n",
       "      <td>9.0</td>\n",
       "      <td>111</td>\n",
       "      <td>5000</td>\n",
       "      <td>21</td>\n",
       "      <td>27</td>\n",
       "      <td>13495</td>\n",
       "    </tr>\n",
       "    <tr>\n",
       "      <th>1</th>\n",
       "      <td>3</td>\n",
       "      <td>?</td>\n",
       "      <td>alfa-romero</td>\n",
       "      <td>gas</td>\n",
       "      <td>std</td>\n",
       "      <td>two</td>\n",
       "      <td>convertible</td>\n",
       "      <td>rwd</td>\n",
       "      <td>front</td>\n",
       "      <td>88.6</td>\n",
       "      <td>...</td>\n",
       "      <td>130</td>\n",
       "      <td>mpfi</td>\n",
       "      <td>3.47</td>\n",
       "      <td>2.68</td>\n",
       "      <td>9.0</td>\n",
       "      <td>111</td>\n",
       "      <td>5000</td>\n",
       "      <td>21</td>\n",
       "      <td>27</td>\n",
       "      <td>16500</td>\n",
       "    </tr>\n",
       "    <tr>\n",
       "      <th>2</th>\n",
       "      <td>1</td>\n",
       "      <td>?</td>\n",
       "      <td>alfa-romero</td>\n",
       "      <td>gas</td>\n",
       "      <td>std</td>\n",
       "      <td>two</td>\n",
       "      <td>hatchback</td>\n",
       "      <td>rwd</td>\n",
       "      <td>front</td>\n",
       "      <td>94.5</td>\n",
       "      <td>...</td>\n",
       "      <td>152</td>\n",
       "      <td>mpfi</td>\n",
       "      <td>2.68</td>\n",
       "      <td>3.47</td>\n",
       "      <td>9.0</td>\n",
       "      <td>154</td>\n",
       "      <td>5000</td>\n",
       "      <td>19</td>\n",
       "      <td>26</td>\n",
       "      <td>16500</td>\n",
       "    </tr>\n",
       "    <tr>\n",
       "      <th>3</th>\n",
       "      <td>2</td>\n",
       "      <td>164</td>\n",
       "      <td>audi</td>\n",
       "      <td>gas</td>\n",
       "      <td>std</td>\n",
       "      <td>four</td>\n",
       "      <td>sedan</td>\n",
       "      <td>fwd</td>\n",
       "      <td>front</td>\n",
       "      <td>99.8</td>\n",
       "      <td>...</td>\n",
       "      <td>109</td>\n",
       "      <td>mpfi</td>\n",
       "      <td>3.19</td>\n",
       "      <td>3.40</td>\n",
       "      <td>10.0</td>\n",
       "      <td>102</td>\n",
       "      <td>5500</td>\n",
       "      <td>24</td>\n",
       "      <td>30</td>\n",
       "      <td>13950</td>\n",
       "    </tr>\n",
       "    <tr>\n",
       "      <th>4</th>\n",
       "      <td>2</td>\n",
       "      <td>164</td>\n",
       "      <td>audi</td>\n",
       "      <td>gas</td>\n",
       "      <td>std</td>\n",
       "      <td>four</td>\n",
       "      <td>sedan</td>\n",
       "      <td>4wd</td>\n",
       "      <td>front</td>\n",
       "      <td>99.4</td>\n",
       "      <td>...</td>\n",
       "      <td>136</td>\n",
       "      <td>mpfi</td>\n",
       "      <td>3.19</td>\n",
       "      <td>3.40</td>\n",
       "      <td>8.0</td>\n",
       "      <td>115</td>\n",
       "      <td>5500</td>\n",
       "      <td>18</td>\n",
       "      <td>22</td>\n",
       "      <td>17450</td>\n",
       "    </tr>\n",
       "  </tbody>\n",
       "</table>\n",
       "<p>5 rows × 26 columns</p>\n",
       "</div>"
      ],
      "text/plain": [
       "   symboling normalized-losses         make fuel-type aspiration num-of-doors  \\\n",
       "0          3                 ?  alfa-romero       gas        std          two   \n",
       "1          3                 ?  alfa-romero       gas        std          two   \n",
       "2          1                 ?  alfa-romero       gas        std          two   \n",
       "3          2               164         audi       gas        std         four   \n",
       "4          2               164         audi       gas        std         four   \n",
       "\n",
       "    body-style drive-wheels engine-location  wheel-base  ...  engine-size  \\\n",
       "0  convertible          rwd           front        88.6  ...          130   \n",
       "1  convertible          rwd           front        88.6  ...          130   \n",
       "2    hatchback          rwd           front        94.5  ...          152   \n",
       "3        sedan          fwd           front        99.8  ...          109   \n",
       "4        sedan          4wd           front        99.4  ...          136   \n",
       "\n",
       "   fuel-system  bore  stroke compression-ratio horsepower  peak-rpm city-mpg  \\\n",
       "0         mpfi  3.47    2.68               9.0        111      5000       21   \n",
       "1         mpfi  3.47    2.68               9.0        111      5000       21   \n",
       "2         mpfi  2.68    3.47               9.0        154      5000       19   \n",
       "3         mpfi  3.19    3.40              10.0        102      5500       24   \n",
       "4         mpfi  3.19    3.40               8.0        115      5500       18   \n",
       "\n",
       "  highway-mpg  price  \n",
       "0          27  13495  \n",
       "1          27  16500  \n",
       "2          26  16500  \n",
       "3          30  13950  \n",
       "4          22  17450  \n",
       "\n",
       "[5 rows x 26 columns]"
      ]
     },
     "execution_count": 147,
     "metadata": {},
     "output_type": "execute_result"
    }
   ],
   "source": [
    "dcars.head()"
   ]
  },
  {
   "cell_type": "markdown",
   "id": "35c37b0a-6529-49fd-9f2a-20b5ae4d1215",
   "metadata": {},
   "source": [
    "##### En caso haya habido error al tratar de descargar el dataset, el archivo auto.csv se proporciona en conjunto con este notebook; ejecutar el el código del siguiente snippet quitando el comentario (los #) a las líneas de código. Si está corriendo este notebook en su máquina local, asegúrese de que el archivo auto.csv y el notebook están dentro de la misma carpeta."
   ]
  },
  {
   "cell_type": "code",
   "execution_count": 110,
   "id": "88826153-2575-4924-9940-e70823c81b31",
   "metadata": {},
   "outputs": [],
   "source": [
    "#dt=pd.read_csv('auto.csv')\n",
    "#dt.head()"
   ]
  },
  {
   "cell_type": "markdown",
   "id": "8246ee4d-bd15-400a-82f7-38303068ad93",
   "metadata": {},
   "source": [
    "##### Primero, obtener una idea general de nuestro dataset, es decir, cuantas filas y columnas tiene e información sobre los tipos de datos que almacena cada columna."
   ]
  },
  {
   "cell_type": "code",
   "execution_count": 148,
   "id": "cac95e3c-98fc-40c8-8684-9abb04c45da4",
   "metadata": {},
   "outputs": [
    {
     "data": {
      "text/plain": [
       "(205, 26)"
      ]
     },
     "execution_count": 148,
     "metadata": {},
     "output_type": "execute_result"
    }
   ],
   "source": [
    "##Número de filas y columnas\n",
    "dcars.shape"
   ]
  },
  {
   "cell_type": "code",
   "execution_count": 149,
   "id": "73de3ceb-385d-46a1-8ddf-9829a4a7855f",
   "metadata": {},
   "outputs": [
    {
     "data": {
      "text/plain": [
       "symboling              int64\n",
       "normalized-losses     object\n",
       "make                  object\n",
       "fuel-type             object\n",
       "aspiration            object\n",
       "num-of-doors          object\n",
       "body-style            object\n",
       "drive-wheels          object\n",
       "engine-location       object\n",
       "wheel-base           float64\n",
       "length               float64\n",
       "width                float64\n",
       "height               float64\n",
       "curb-weight            int64\n",
       "engine-type           object\n",
       "num-of-cylinders      object\n",
       "engine-size            int64\n",
       "fuel-system           object\n",
       "bore                  object\n",
       "stroke                object\n",
       "compression-ratio    float64\n",
       "horsepower            object\n",
       "peak-rpm              object\n",
       "city-mpg               int64\n",
       "highway-mpg            int64\n",
       "price                 object\n",
       "dtype: object"
      ]
     },
     "execution_count": 149,
     "metadata": {},
     "output_type": "execute_result"
    }
   ],
   "source": [
    "## Tipos de datos de cada columa\n",
    "dcars.dtypes"
   ]
  },
  {
   "cell_type": "markdown",
   "id": "7c026728-17d5-4440-aad4-df39a3f3fc03",
   "metadata": {},
   "source": [
    "<h3> ------------------------------------------------------------1.1 Identificar los valores faltantes------------------------------------------------------------ </h3>"
   ]
  },
  {
   "cell_type": "markdown",
   "id": "0f2c6387-376e-4e5b-b2c4-fb8247b14f25",
   "metadata": {},
   "source": [
    "#### Pero, ¿que se consideran valores nulos? Pues registros donde aparece la sigla NaN (not a number)"
   ]
  },
  {
   "cell_type": "code",
   "execution_count": 150,
   "id": "ed722f25-2a52-4671-9c5d-0cb16dadad18",
   "metadata": {},
   "outputs": [
    {
     "name": "stdout",
     "output_type": "stream",
     "text": [
      "<class 'pandas.core.frame.DataFrame'>\n",
      "RangeIndex: 205 entries, 0 to 204\n",
      "Data columns (total 26 columns):\n",
      " #   Column             Non-Null Count  Dtype  \n",
      "---  ------             --------------  -----  \n",
      " 0   symboling          205 non-null    int64  \n",
      " 1   normalized-losses  205 non-null    object \n",
      " 2   make               205 non-null    object \n",
      " 3   fuel-type          205 non-null    object \n",
      " 4   aspiration         205 non-null    object \n",
      " 5   num-of-doors       205 non-null    object \n",
      " 6   body-style         205 non-null    object \n",
      " 7   drive-wheels       205 non-null    object \n",
      " 8   engine-location    205 non-null    object \n",
      " 9   wheel-base         205 non-null    float64\n",
      " 10  length             205 non-null    float64\n",
      " 11  width              205 non-null    float64\n",
      " 12  height             205 non-null    float64\n",
      " 13  curb-weight        205 non-null    int64  \n",
      " 14  engine-type        205 non-null    object \n",
      " 15  num-of-cylinders   205 non-null    object \n",
      " 16  engine-size        205 non-null    int64  \n",
      " 17  fuel-system        205 non-null    object \n",
      " 18  bore               205 non-null    object \n",
      " 19  stroke             205 non-null    object \n",
      " 20  compression-ratio  205 non-null    float64\n",
      " 21  horsepower         205 non-null    object \n",
      " 22  peak-rpm           205 non-null    object \n",
      " 23  city-mpg           205 non-null    int64  \n",
      " 24  highway-mpg        205 non-null    int64  \n",
      " 25  price              205 non-null    object \n",
      "dtypes: float64(5), int64(5), object(16)\n",
      "memory usage: 41.8+ KB\n"
     ]
    }
   ],
   "source": [
    "## Una primera aproximación es usando el método info, que presenta, además del tipo de dato de cada columna, la cantidad de valores no nulos en cada una de ellas.\n",
    "dcars.info()"
   ]
  },
  {
   "cell_type": "markdown",
   "id": "9254d7b0-4908-4bd4-910f-f343f90f3638",
   "metadata": {
    "tags": []
   },
   "source": [
    "Del método shape se vio que se tiene 205 registros (filas o rows). El método .info() nos presenta cuantos valores no nulos hay en cada columna. "
   ]
  },
  {
   "cell_type": "markdown",
   "id": "a7f3148f-1b53-4847-b468-7e726986beb1",
   "metadata": {},
   "source": [
    "##### Según el resultado anterior, no hay valores nulos en las columnas, pero OJO!!, eso no quiere decir que no existan valores no válidos. En el dataset que hemos traido, los datos faltantes aparecen con signo \"?\" como se ve en las tres primeras filas de la columna \"normalized-losses\""
   ]
  },
  {
   "cell_type": "markdown",
   "id": "8ca2f926-6c57-4e96-babe-0fbcf5b7450d",
   "metadata": {},
   "source": [
    "##### Reemplacemos de una vez esos \"?\" por NaN, el cual es el marcador por defecto de Python para valores faltantes por razones de conveniencia y velocidad de computo."
   ]
  },
  {
   "cell_type": "code",
   "execution_count": 151,
   "id": "a65e3d3f-e613-4889-8be4-414e961ee580",
   "metadata": {},
   "outputs": [
    {
     "data": {
      "text/html": [
       "<div>\n",
       "<style scoped>\n",
       "    .dataframe tbody tr th:only-of-type {\n",
       "        vertical-align: middle;\n",
       "    }\n",
       "\n",
       "    .dataframe tbody tr th {\n",
       "        vertical-align: top;\n",
       "    }\n",
       "\n",
       "    .dataframe thead th {\n",
       "        text-align: right;\n",
       "    }\n",
       "</style>\n",
       "<table border=\"1\" class=\"dataframe\">\n",
       "  <thead>\n",
       "    <tr style=\"text-align: right;\">\n",
       "      <th></th>\n",
       "      <th>symboling</th>\n",
       "      <th>normalized-losses</th>\n",
       "      <th>make</th>\n",
       "      <th>fuel-type</th>\n",
       "      <th>aspiration</th>\n",
       "      <th>num-of-doors</th>\n",
       "      <th>body-style</th>\n",
       "      <th>drive-wheels</th>\n",
       "      <th>engine-location</th>\n",
       "      <th>wheel-base</th>\n",
       "      <th>...</th>\n",
       "      <th>engine-size</th>\n",
       "      <th>fuel-system</th>\n",
       "      <th>bore</th>\n",
       "      <th>stroke</th>\n",
       "      <th>compression-ratio</th>\n",
       "      <th>horsepower</th>\n",
       "      <th>peak-rpm</th>\n",
       "      <th>city-mpg</th>\n",
       "      <th>highway-mpg</th>\n",
       "      <th>price</th>\n",
       "    </tr>\n",
       "  </thead>\n",
       "  <tbody>\n",
       "    <tr>\n",
       "      <th>0</th>\n",
       "      <td>3</td>\n",
       "      <td>NaN</td>\n",
       "      <td>alfa-romero</td>\n",
       "      <td>gas</td>\n",
       "      <td>std</td>\n",
       "      <td>two</td>\n",
       "      <td>convertible</td>\n",
       "      <td>rwd</td>\n",
       "      <td>front</td>\n",
       "      <td>88.6</td>\n",
       "      <td>...</td>\n",
       "      <td>130</td>\n",
       "      <td>mpfi</td>\n",
       "      <td>3.47</td>\n",
       "      <td>2.68</td>\n",
       "      <td>9.0</td>\n",
       "      <td>111</td>\n",
       "      <td>5000</td>\n",
       "      <td>21</td>\n",
       "      <td>27</td>\n",
       "      <td>13495</td>\n",
       "    </tr>\n",
       "    <tr>\n",
       "      <th>1</th>\n",
       "      <td>3</td>\n",
       "      <td>NaN</td>\n",
       "      <td>alfa-romero</td>\n",
       "      <td>gas</td>\n",
       "      <td>std</td>\n",
       "      <td>two</td>\n",
       "      <td>convertible</td>\n",
       "      <td>rwd</td>\n",
       "      <td>front</td>\n",
       "      <td>88.6</td>\n",
       "      <td>...</td>\n",
       "      <td>130</td>\n",
       "      <td>mpfi</td>\n",
       "      <td>3.47</td>\n",
       "      <td>2.68</td>\n",
       "      <td>9.0</td>\n",
       "      <td>111</td>\n",
       "      <td>5000</td>\n",
       "      <td>21</td>\n",
       "      <td>27</td>\n",
       "      <td>16500</td>\n",
       "    </tr>\n",
       "    <tr>\n",
       "      <th>2</th>\n",
       "      <td>1</td>\n",
       "      <td>NaN</td>\n",
       "      <td>alfa-romero</td>\n",
       "      <td>gas</td>\n",
       "      <td>std</td>\n",
       "      <td>two</td>\n",
       "      <td>hatchback</td>\n",
       "      <td>rwd</td>\n",
       "      <td>front</td>\n",
       "      <td>94.5</td>\n",
       "      <td>...</td>\n",
       "      <td>152</td>\n",
       "      <td>mpfi</td>\n",
       "      <td>2.68</td>\n",
       "      <td>3.47</td>\n",
       "      <td>9.0</td>\n",
       "      <td>154</td>\n",
       "      <td>5000</td>\n",
       "      <td>19</td>\n",
       "      <td>26</td>\n",
       "      <td>16500</td>\n",
       "    </tr>\n",
       "    <tr>\n",
       "      <th>3</th>\n",
       "      <td>2</td>\n",
       "      <td>164</td>\n",
       "      <td>audi</td>\n",
       "      <td>gas</td>\n",
       "      <td>std</td>\n",
       "      <td>four</td>\n",
       "      <td>sedan</td>\n",
       "      <td>fwd</td>\n",
       "      <td>front</td>\n",
       "      <td>99.8</td>\n",
       "      <td>...</td>\n",
       "      <td>109</td>\n",
       "      <td>mpfi</td>\n",
       "      <td>3.19</td>\n",
       "      <td>3.40</td>\n",
       "      <td>10.0</td>\n",
       "      <td>102</td>\n",
       "      <td>5500</td>\n",
       "      <td>24</td>\n",
       "      <td>30</td>\n",
       "      <td>13950</td>\n",
       "    </tr>\n",
       "    <tr>\n",
       "      <th>4</th>\n",
       "      <td>2</td>\n",
       "      <td>164</td>\n",
       "      <td>audi</td>\n",
       "      <td>gas</td>\n",
       "      <td>std</td>\n",
       "      <td>four</td>\n",
       "      <td>sedan</td>\n",
       "      <td>4wd</td>\n",
       "      <td>front</td>\n",
       "      <td>99.4</td>\n",
       "      <td>...</td>\n",
       "      <td>136</td>\n",
       "      <td>mpfi</td>\n",
       "      <td>3.19</td>\n",
       "      <td>3.40</td>\n",
       "      <td>8.0</td>\n",
       "      <td>115</td>\n",
       "      <td>5500</td>\n",
       "      <td>18</td>\n",
       "      <td>22</td>\n",
       "      <td>17450</td>\n",
       "    </tr>\n",
       "  </tbody>\n",
       "</table>\n",
       "<p>5 rows × 26 columns</p>\n",
       "</div>"
      ],
      "text/plain": [
       "   symboling normalized-losses         make fuel-type aspiration num-of-doors  \\\n",
       "0          3               NaN  alfa-romero       gas        std          two   \n",
       "1          3               NaN  alfa-romero       gas        std          two   \n",
       "2          1               NaN  alfa-romero       gas        std          two   \n",
       "3          2               164         audi       gas        std         four   \n",
       "4          2               164         audi       gas        std         four   \n",
       "\n",
       "    body-style drive-wheels engine-location  wheel-base  ...  engine-size  \\\n",
       "0  convertible          rwd           front        88.6  ...          130   \n",
       "1  convertible          rwd           front        88.6  ...          130   \n",
       "2    hatchback          rwd           front        94.5  ...          152   \n",
       "3        sedan          fwd           front        99.8  ...          109   \n",
       "4        sedan          4wd           front        99.4  ...          136   \n",
       "\n",
       "   fuel-system  bore  stroke compression-ratio horsepower  peak-rpm city-mpg  \\\n",
       "0         mpfi  3.47    2.68               9.0        111      5000       21   \n",
       "1         mpfi  3.47    2.68               9.0        111      5000       21   \n",
       "2         mpfi  2.68    3.47               9.0        154      5000       19   \n",
       "3         mpfi  3.19    3.40              10.0        102      5500       24   \n",
       "4         mpfi  3.19    3.40               8.0        115      5500       18   \n",
       "\n",
       "  highway-mpg  price  \n",
       "0          27  13495  \n",
       "1          27  16500  \n",
       "2          26  16500  \n",
       "3          30  13950  \n",
       "4          22  17450  \n",
       "\n",
       "[5 rows x 26 columns]"
      ]
     },
     "execution_count": 151,
     "metadata": {},
     "output_type": "execute_result"
    }
   ],
   "source": [
    "dcars.replace(\"?\", np.nan, inplace = True)\n",
    "dcars.head()"
   ]
  },
  {
   "cell_type": "code",
   "execution_count": 152,
   "id": "004eae63-6ff0-4912-a1dc-3f1c1b805f1f",
   "metadata": {},
   "outputs": [],
   "source": [
    "### Esta línea de abajo si funciona, solo que hay que hacer una función for para esto\n",
    "#carac=['?', '#']\n",
    "#dfcarac=dcars[dcars['bore'].isin(carac)]\n",
    "#dfcarac"
   ]
  },
  {
   "cell_type": "markdown",
   "id": "442a47d6-5fbd-4214-b1ab-c10271ad4267",
   "metadata": {},
   "source": [
    "##### Vamos a hacer un ejemplo con un dataframe pequeño donde podemos aplicar identificación y conteo de valores nulos."
   ]
  },
  {
   "cell_type": "code",
   "execution_count": 153,
   "id": "b3910c00-0b02-46d5-8844-3441efbfcf5f",
   "metadata": {},
   "outputs": [
    {
     "data": {
      "text/html": [
       "<div>\n",
       "<style scoped>\n",
       "    .dataframe tbody tr th:only-of-type {\n",
       "        vertical-align: middle;\n",
       "    }\n",
       "\n",
       "    .dataframe tbody tr th {\n",
       "        vertical-align: top;\n",
       "    }\n",
       "\n",
       "    .dataframe thead th {\n",
       "        text-align: right;\n",
       "    }\n",
       "</style>\n",
       "<table border=\"1\" class=\"dataframe\">\n",
       "  <thead>\n",
       "    <tr style=\"text-align: right;\">\n",
       "      <th></th>\n",
       "      <th>First Score</th>\n",
       "      <th>Second Score</th>\n",
       "      <th>Third Score</th>\n",
       "    </tr>\n",
       "  </thead>\n",
       "  <tbody>\n",
       "    <tr>\n",
       "      <th>0</th>\n",
       "      <td>100.0</td>\n",
       "      <td>NaN</td>\n",
       "      <td>NaN</td>\n",
       "    </tr>\n",
       "    <tr>\n",
       "      <th>1</th>\n",
       "      <td>90.0</td>\n",
       "      <td>45.0</td>\n",
       "      <td>85.0</td>\n",
       "    </tr>\n",
       "    <tr>\n",
       "      <th>2</th>\n",
       "      <td>NaN</td>\n",
       "      <td>56.0</td>\n",
       "      <td>80.0</td>\n",
       "    </tr>\n",
       "    <tr>\n",
       "      <th>3</th>\n",
       "      <td>95.0</td>\n",
       "      <td>NaN</td>\n",
       "      <td>91.0</td>\n",
       "    </tr>\n",
       "    <tr>\n",
       "      <th>4</th>\n",
       "      <td>80.0</td>\n",
       "      <td>60.0</td>\n",
       "      <td>NaN</td>\n",
       "    </tr>\n",
       "    <tr>\n",
       "      <th>5</th>\n",
       "      <td>88.0</td>\n",
       "      <td>48.0</td>\n",
       "      <td>75.0</td>\n",
       "    </tr>\n",
       "    <tr>\n",
       "      <th>6</th>\n",
       "      <td>NaN</td>\n",
       "      <td>NaN</td>\n",
       "      <td>68.0</td>\n",
       "    </tr>\n",
       "  </tbody>\n",
       "</table>\n",
       "</div>"
      ],
      "text/plain": [
       "   First Score  Second Score  Third Score\n",
       "0        100.0           NaN          NaN\n",
       "1         90.0          45.0         85.0\n",
       "2          NaN          56.0         80.0\n",
       "3         95.0           NaN         91.0\n",
       "4         80.0          60.0          NaN\n",
       "5         88.0          48.0         75.0\n",
       "6          NaN           NaN         68.0"
      ]
     },
     "execution_count": 153,
     "metadata": {},
     "output_type": "execute_result"
    }
   ],
   "source": [
    "#El propósito de este notebook es presentar que es el Data wrangling. A continuación creamos un dataframe, luego sobre la crear dataframes no se hace explicación aca. \n",
    "\n",
    "dict = {'First Score':[100, 90, np.nan, 95, 80, 88, np.nan],\n",
    "        'Second Score': [np.nan, 45, 56, np.nan, 60, 48, np.nan],\n",
    "        'Third Score':[np.nan, 85, 80, 91, np.nan, 75, 68]}\n",
    "  \n",
    "# creating a dataframe from dictionary\n",
    "dfg = pd.DataFrame(dict)\n",
    "dfg"
   ]
  },
  {
   "cell_type": "code",
   "execution_count": 123,
   "id": "68dac7b1-bc8d-40c7-b62d-f7bf1b2e8ecd",
   "metadata": {},
   "outputs": [
    {
     "name": "stdout",
     "output_type": "stream",
     "text": [
      "<class 'pandas.core.frame.DataFrame'>\n",
      "RangeIndex: 7 entries, 0 to 6\n",
      "Data columns (total 3 columns):\n",
      " #   Column        Non-Null Count  Dtype  \n",
      "---  ------        --------------  -----  \n",
      " 0   First Score   5 non-null      float64\n",
      " 1   Second Score  4 non-null      float64\n",
      " 2   Third Score   5 non-null      float64\n",
      "dtypes: float64(3)\n",
      "memory usage: 296.0 bytes\n"
     ]
    }
   ],
   "source": [
    "## Aplicando el método ya visto para obtener el tipo de dato en cada columna y si hay valores nulos en ellas\n",
    "dfg.info()"
   ]
  },
  {
   "cell_type": "markdown",
   "id": "739584e3-2cca-4f5a-8f6d-c5939c6f7fa2",
   "metadata": {},
   "source": [
    "Podemos comprobar fácilmente de manera visual que efectivamente en el dataframe dfg, en la columna 'First Score' hay 5 valores no nulos, en 'Second Score' hay 4 valores no nulos y en la tercera columna hay 5 valores no nulos."
   ]
  },
  {
   "cell_type": "markdown",
   "id": "ba71c614-34db-4fe3-8e60-3eddeb6bd3d2",
   "metadata": {},
   "source": [
    "#### El método isnull().sum() también es útil. En este caso, éste nos entrega cuántos valores nulos hay en cada columna. Lo maluco de esto es que, si el dataframe tiene muchas columnas, pues no me va a mostrar todas sino el resumen de las primeras y las últimas. En este caso. como apenas son 26 columnas, me las presenta toda."
   ]
  },
  {
   "cell_type": "code",
   "execution_count": 154,
   "id": "6812fa2c-4f70-4db4-95d1-cdddd4969ed3",
   "metadata": {},
   "outputs": [
    {
     "data": {
      "text/plain": [
       "First Score     2\n",
       "Second Score    3\n",
       "Third Score     2\n",
       "dtype: int64"
      ]
     },
     "execution_count": 154,
     "metadata": {},
     "output_type": "execute_result"
    }
   ],
   "source": [
    "dfg.isnull().sum()"
   ]
  },
  {
   "cell_type": "markdown",
   "id": "e30c2a62-58f8-4d9d-8c43-369934bd7886",
   "metadata": {},
   "source": [
    "##### También puedo aplicar método isnull().sum() solo a alguna columna de interés."
   ]
  },
  {
   "cell_type": "code",
   "execution_count": 155,
   "id": "a4bc75ac-e6c9-402f-90e5-8438bfcb8043",
   "metadata": {},
   "outputs": [
    {
     "data": {
      "text/plain": [
       "2"
      ]
     },
     "execution_count": 155,
     "metadata": {},
     "output_type": "execute_result"
    }
   ],
   "source": [
    "dfg['First Score'].isnull().sum()"
   ]
  },
  {
   "cell_type": "markdown",
   "id": "ba7cc393-5cd3-4954-a41a-7fcea46c18f0",
   "metadata": {},
   "source": [
    "<h3 id=\"deal_missing_values\">Bueno pero, ¿y como se manejan los valores faltantes?</h3>\n",
    "\n",
    "<h3>1.2 Manejar los valores faltantes</h3>\n",
    "\n",
    "<ol>\n",
    "    <li>Validando con la fuente de los datos a ver si se puede obtener esa info faltante<br>\n",
    "    <li>Eliminando datos<br>\n",
    "        a. Eliminar toda la fila<br>\n",
    "        b. Eliminar toda la columna\n",
    "    </li>\n",
    "    <li>Reemplazando datos<br>\n",
    "        a. Reemplazarlos por la media<br>\n",
    "        b. Reemplazarlos por el valor más común, método aplicado a variables categóricas<br>\n",
    "        c. Reemplazarlos en base a otras funciones\n",
    "    </li>\n",
    "</ol>"
   ]
  },
  {
   "cell_type": "markdown",
   "id": "c5782bbc-3943-48a9-b55a-440a018a7750",
   "metadata": {},
   "source": [
    "<h5> El criterio a aplicar dependerá de diferentes factores. Habrá que evaluar si eliminar todas las filas con valores nulos elimina muchos datos y nos impacta el análisis final.</h4>\n",
    "<h5> Apliquemos el método de eliminar todas las filas con valores nulos al dataframe dfg.</h4>"
   ]
  },
  {
   "cell_type": "code",
   "execution_count": 156,
   "id": "62119eac-b948-4863-ad52-e7efda9a8b2f",
   "metadata": {},
   "outputs": [
    {
     "data": {
      "text/html": [
       "<div>\n",
       "<style scoped>\n",
       "    .dataframe tbody tr th:only-of-type {\n",
       "        vertical-align: middle;\n",
       "    }\n",
       "\n",
       "    .dataframe tbody tr th {\n",
       "        vertical-align: top;\n",
       "    }\n",
       "\n",
       "    .dataframe thead th {\n",
       "        text-align: right;\n",
       "    }\n",
       "</style>\n",
       "<table border=\"1\" class=\"dataframe\">\n",
       "  <thead>\n",
       "    <tr style=\"text-align: right;\">\n",
       "      <th></th>\n",
       "      <th>First Score</th>\n",
       "      <th>Second Score</th>\n",
       "      <th>Third Score</th>\n",
       "    </tr>\n",
       "  </thead>\n",
       "  <tbody>\n",
       "    <tr>\n",
       "      <th>0</th>\n",
       "      <td>100.0</td>\n",
       "      <td>NaN</td>\n",
       "      <td>NaN</td>\n",
       "    </tr>\n",
       "    <tr>\n",
       "      <th>1</th>\n",
       "      <td>90.0</td>\n",
       "      <td>45.0</td>\n",
       "      <td>85.0</td>\n",
       "    </tr>\n",
       "    <tr>\n",
       "      <th>2</th>\n",
       "      <td>NaN</td>\n",
       "      <td>56.0</td>\n",
       "      <td>80.0</td>\n",
       "    </tr>\n",
       "    <tr>\n",
       "      <th>3</th>\n",
       "      <td>95.0</td>\n",
       "      <td>NaN</td>\n",
       "      <td>91.0</td>\n",
       "    </tr>\n",
       "    <tr>\n",
       "      <th>4</th>\n",
       "      <td>80.0</td>\n",
       "      <td>60.0</td>\n",
       "      <td>NaN</td>\n",
       "    </tr>\n",
       "    <tr>\n",
       "      <th>5</th>\n",
       "      <td>88.0</td>\n",
       "      <td>48.0</td>\n",
       "      <td>75.0</td>\n",
       "    </tr>\n",
       "    <tr>\n",
       "      <th>6</th>\n",
       "      <td>NaN</td>\n",
       "      <td>NaN</td>\n",
       "      <td>68.0</td>\n",
       "    </tr>\n",
       "  </tbody>\n",
       "</table>\n",
       "</div>"
      ],
      "text/plain": [
       "   First Score  Second Score  Third Score\n",
       "0        100.0           NaN          NaN\n",
       "1         90.0          45.0         85.0\n",
       "2          NaN          56.0         80.0\n",
       "3         95.0           NaN         91.0\n",
       "4         80.0          60.0          NaN\n",
       "5         88.0          48.0         75.0\n",
       "6          NaN           NaN         68.0"
      ]
     },
     "execution_count": 156,
     "metadata": {},
     "output_type": "execute_result"
    }
   ],
   "source": [
    "### Presentemos nuevamente nuestro dataframe dfg\n",
    "dfg"
   ]
  },
  {
   "cell_type": "code",
   "execution_count": 157,
   "id": "425cc1df-0cde-487c-a7c9-624e4c696ee3",
   "metadata": {},
   "outputs": [],
   "source": [
    "### Eliminar filas con valores nulos. Para ello se usa el métidi dropna, al cual se le pasa el parámetro axis=0 que significa aplicar drop a las filas\n",
    "##Guardamos el resultado en nuevo dataframe dfg2\n",
    "dfg2=dfg.dropna(axis=0)"
   ]
  },
  {
   "cell_type": "code",
   "execution_count": 158,
   "id": "68c245e9-00aa-44e7-b656-c7547eda0970",
   "metadata": {},
   "outputs": [
    {
     "data": {
      "text/html": [
       "<div>\n",
       "<style scoped>\n",
       "    .dataframe tbody tr th:only-of-type {\n",
       "        vertical-align: middle;\n",
       "    }\n",
       "\n",
       "    .dataframe tbody tr th {\n",
       "        vertical-align: top;\n",
       "    }\n",
       "\n",
       "    .dataframe thead th {\n",
       "        text-align: right;\n",
       "    }\n",
       "</style>\n",
       "<table border=\"1\" class=\"dataframe\">\n",
       "  <thead>\n",
       "    <tr style=\"text-align: right;\">\n",
       "      <th></th>\n",
       "      <th>First Score</th>\n",
       "      <th>Second Score</th>\n",
       "      <th>Third Score</th>\n",
       "    </tr>\n",
       "  </thead>\n",
       "  <tbody>\n",
       "    <tr>\n",
       "      <th>1</th>\n",
       "      <td>90.0</td>\n",
       "      <td>45.0</td>\n",
       "      <td>85.0</td>\n",
       "    </tr>\n",
       "    <tr>\n",
       "      <th>5</th>\n",
       "      <td>88.0</td>\n",
       "      <td>48.0</td>\n",
       "      <td>75.0</td>\n",
       "    </tr>\n",
       "  </tbody>\n",
       "</table>\n",
       "</div>"
      ],
      "text/plain": [
       "   First Score  Second Score  Third Score\n",
       "1         90.0          45.0         85.0\n",
       "5         88.0          48.0         75.0"
      ]
     },
     "execution_count": 158,
     "metadata": {},
     "output_type": "execute_result"
    }
   ],
   "source": [
    "## Presentemos el dataframe dfg2 a ver como quedó\n",
    "dfg2"
   ]
  },
  {
   "cell_type": "markdown",
   "id": "810b94a8-0468-47db-a224-64481819e91d",
   "metadata": {},
   "source": [
    "Vemos que esto ha impactado mucho nuestro dataframe original ya que hemos descartado mucha información que no era nula."
   ]
  },
  {
   "cell_type": "markdown",
   "id": "7e12a3f9-6eb3-4d68-8344-d6ed942772a6",
   "metadata": {},
   "source": [
    "#### Utilicemos el método de reemplazar los valores faltantes. Tomemos como criterio reemplazarlos mediante la media de cada columna. Calculemos la media de cada columna"
   ]
  },
  {
   "cell_type": "code",
   "execution_count": 160,
   "id": "a164994c-31e3-4f69-8944-a8e8a8fe3e82",
   "metadata": {},
   "outputs": [
    {
     "name": "stdout",
     "output_type": "stream",
     "text": [
      "La media de los valores de cada columna es: \n",
      "First Score: 90.6 \n",
      "Second Score:  52.25 \n",
      "Third Score:  79.8\n"
     ]
    }
   ],
   "source": [
    "meancol1=dfg['First Score'].mean()\n",
    "meancol2=dfg['Second Score'].mean()\n",
    "meancol3=dfg['Third Score'].mean()\n",
    "print(\"La media de los valores de cada columna es: \\nFirst Score:\", meancol1 , \"\\nSecond Score: \", meancol2, \"\\nThird Score: \", meancol3 )"
   ]
  },
  {
   "cell_type": "markdown",
   "id": "b2969827-7f80-49e5-a477-6178561cd479",
   "metadata": {},
   "source": [
    "##### Utilizar ahora el método replace para reemplazar los valores NaN en cada columna por la media calculada. El método tiene la siguiente notación:\n",
    "##### df['column'].replace(valor a quitar, valor a poner)"
   ]
  },
  {
   "cell_type": "code",
   "execution_count": 161,
   "id": "520927d9-dcdd-41f9-8363-399c3a43e407",
   "metadata": {},
   "outputs": [
    {
     "data": {
      "text/html": [
       "<div>\n",
       "<style scoped>\n",
       "    .dataframe tbody tr th:only-of-type {\n",
       "        vertical-align: middle;\n",
       "    }\n",
       "\n",
       "    .dataframe tbody tr th {\n",
       "        vertical-align: top;\n",
       "    }\n",
       "\n",
       "    .dataframe thead th {\n",
       "        text-align: right;\n",
       "    }\n",
       "</style>\n",
       "<table border=\"1\" class=\"dataframe\">\n",
       "  <thead>\n",
       "    <tr style=\"text-align: right;\">\n",
       "      <th></th>\n",
       "      <th>First Score</th>\n",
       "      <th>Second Score</th>\n",
       "      <th>Third Score</th>\n",
       "    </tr>\n",
       "  </thead>\n",
       "  <tbody>\n",
       "    <tr>\n",
       "      <th>0</th>\n",
       "      <td>100.0</td>\n",
       "      <td>52.25</td>\n",
       "      <td>79.8</td>\n",
       "    </tr>\n",
       "    <tr>\n",
       "      <th>1</th>\n",
       "      <td>90.0</td>\n",
       "      <td>45.00</td>\n",
       "      <td>85.0</td>\n",
       "    </tr>\n",
       "    <tr>\n",
       "      <th>2</th>\n",
       "      <td>90.6</td>\n",
       "      <td>56.00</td>\n",
       "      <td>80.0</td>\n",
       "    </tr>\n",
       "    <tr>\n",
       "      <th>3</th>\n",
       "      <td>95.0</td>\n",
       "      <td>52.25</td>\n",
       "      <td>91.0</td>\n",
       "    </tr>\n",
       "    <tr>\n",
       "      <th>4</th>\n",
       "      <td>80.0</td>\n",
       "      <td>60.00</td>\n",
       "      <td>79.8</td>\n",
       "    </tr>\n",
       "    <tr>\n",
       "      <th>5</th>\n",
       "      <td>88.0</td>\n",
       "      <td>48.00</td>\n",
       "      <td>75.0</td>\n",
       "    </tr>\n",
       "    <tr>\n",
       "      <th>6</th>\n",
       "      <td>90.6</td>\n",
       "      <td>52.25</td>\n",
       "      <td>68.0</td>\n",
       "    </tr>\n",
       "  </tbody>\n",
       "</table>\n",
       "</div>"
      ],
      "text/plain": [
       "   First Score  Second Score  Third Score\n",
       "0        100.0         52.25         79.8\n",
       "1         90.0         45.00         85.0\n",
       "2         90.6         56.00         80.0\n",
       "3         95.0         52.25         91.0\n",
       "4         80.0         60.00         79.8\n",
       "5         88.0         48.00         75.0\n",
       "6         90.6         52.25         68.0"
      ]
     },
     "execution_count": 161,
     "metadata": {},
     "output_type": "execute_result"
    }
   ],
   "source": [
    "dfg['First Score'].replace(np.nan, meancol1, inplace=True)\n",
    "dfg['Second Score'].replace(np.nan, meancol2, inplace=True)\n",
    "dfg['Third Score'].replace(np.nan, meancol3, inplace=True)\n",
    "dfg"
   ]
  },
  {
   "cell_type": "markdown",
   "id": "d2c9572b-45e0-49a1-a39e-0ea1f3fdc3ad",
   "metadata": {},
   "source": [
    "<P><font size = 4>Elegante! Hemos reemplazado los valores faltantes.</font></P>"
   ]
  },
  {
   "cell_type": "markdown",
   "id": "ec13a606-4785-4ed6-a3c0-c91dc1b8a6f6",
   "metadata": {},
   "source": [
    "<h3>---------------------------------------------------------------2. Corregir el formato de los datos-------------------------------------------------</h3>"
   ]
  },
  {
   "cell_type": "markdown",
   "id": "0d10de07-5baa-4016-a99e-b13eb1f7f9aa",
   "metadata": {},
   "source": [
    "##### Trabajemos el dataframe anterior, pero con unas variaciones."
   ]
  },
  {
   "cell_type": "code",
   "execution_count": 162,
   "id": "53d70828-e253-4c92-aaed-b1ce863e2b10",
   "metadata": {},
   "outputs": [
    {
     "data": {
      "text/html": [
       "<div>\n",
       "<style scoped>\n",
       "    .dataframe tbody tr th:only-of-type {\n",
       "        vertical-align: middle;\n",
       "    }\n",
       "\n",
       "    .dataframe tbody tr th {\n",
       "        vertical-align: top;\n",
       "    }\n",
       "\n",
       "    .dataframe thead th {\n",
       "        text-align: right;\n",
       "    }\n",
       "</style>\n",
       "<table border=\"1\" class=\"dataframe\">\n",
       "  <thead>\n",
       "    <tr style=\"text-align: right;\">\n",
       "      <th></th>\n",
       "      <th>Subject</th>\n",
       "      <th>First Score</th>\n",
       "      <th>Second Score</th>\n",
       "      <th>Third Score</th>\n",
       "    </tr>\n",
       "  </thead>\n",
       "  <tbody>\n",
       "    <tr>\n",
       "      <th>0</th>\n",
       "      <td>Science</td>\n",
       "      <td>100</td>\n",
       "      <td>60</td>\n",
       "      <td>80</td>\n",
       "    </tr>\n",
       "    <tr>\n",
       "      <th>1</th>\n",
       "      <td>Programming</td>\n",
       "      <td>90</td>\n",
       "      <td>45</td>\n",
       "      <td>85</td>\n",
       "    </tr>\n",
       "    <tr>\n",
       "      <th>2</th>\n",
       "      <td>Science</td>\n",
       "      <td>88</td>\n",
       "      <td>56</td>\n",
       "      <td>80</td>\n",
       "    </tr>\n",
       "    <tr>\n",
       "      <th>3</th>\n",
       "      <td>Biology</td>\n",
       "      <td>95</td>\n",
       "      <td>59</td>\n",
       "      <td>91</td>\n",
       "    </tr>\n",
       "    <tr>\n",
       "      <th>4</th>\n",
       "      <td>Social Sciences</td>\n",
       "      <td>80</td>\n",
       "      <td>60</td>\n",
       "      <td>40</td>\n",
       "    </tr>\n",
       "    <tr>\n",
       "      <th>5</th>\n",
       "      <td>Languages</td>\n",
       "      <td>88</td>\n",
       "      <td>48</td>\n",
       "      <td>75</td>\n",
       "    </tr>\n",
       "    <tr>\n",
       "      <th>6</th>\n",
       "      <td>Physics</td>\n",
       "      <td>79</td>\n",
       "      <td>50</td>\n",
       "      <td>68</td>\n",
       "    </tr>\n",
       "  </tbody>\n",
       "</table>\n",
       "</div>"
      ],
      "text/plain": [
       "           Subject First Score Second Score Third Score\n",
       "0          Science         100           60          80\n",
       "1      Programming          90           45          85\n",
       "2          Science          88           56          80\n",
       "3          Biology          95           59          91\n",
       "4  Social Sciences          80           60          40\n",
       "5        Languages          88           48          75\n",
       "6          Physics          79           50          68"
      ]
     },
     "execution_count": 162,
     "metadata": {},
     "output_type": "execute_result"
    }
   ],
   "source": [
    "dict = {'Subject':['Science', 'Programming', 'Science', 'Biology', 'Social Sciences', 'Languages', 'Physics'],\n",
    "        'First Score':[100, 90, 88, 95, 80, 88, '79'],\n",
    "        'Second Score': [60, '45', 56, 59, 60, 48, '50'],\n",
    "        'Third Score':[80, 85, 80, '91', 40, 75, 68]}\n",
    "  \n",
    "# creating a dataframe from dictionary\n",
    "dfh = pd.DataFrame(dict)\n",
    "dfh"
   ]
  },
  {
   "cell_type": "code",
   "execution_count": 163,
   "id": "237c76a6-d115-44e5-9037-59583107e5e8",
   "metadata": {},
   "outputs": [
    {
     "data": {
      "text/plain": [
       "Subject         object\n",
       "First Score     object\n",
       "Second Score    object\n",
       "Third Score     object\n",
       "dtype: object"
      ]
     },
     "execution_count": 163,
     "metadata": {},
     "output_type": "execute_result"
    }
   ],
   "source": [
    "### revisemos los tipos de valores que hay en cada columna.\n",
    "dfh.dtypes"
   ]
  },
  {
   "cell_type": "markdown",
   "id": "d9e3b0b0-da2b-4023-a51e-938978155950",
   "metadata": {},
   "source": [
    "##### Acá nos dice que los datos de todas columnas son tipo objeto, pero al ver el dataframe vemos que hay algunas donde tenemos números. \n",
    "##### Esto puede suceder cuando, por alguna razón, ya sea en la fuente de los datos o al cargar el dataset acá, el tipo de datos se cambia.\n",
    "##### Es necesario corregir esto ya que las columnas que sabemos que tienen números, deben quedar como datos tipo entero o tipo float."
   ]
  },
  {
   "cell_type": "markdown",
   "id": "3a9be609-9520-402e-887b-e63d16615239",
   "metadata": {},
   "source": [
    "##### Si quisieramos calcular por ejemplo el promedio la columna First Score mediante la siguiente línea de código:"
   ]
  },
  {
   "cell_type": "code",
   "execution_count": 22,
   "id": "2d2b7f4d-c2c1-4dce-adff-de2f0b3c035d",
   "metadata": {},
   "outputs": [],
   "source": [
    "#### Si quieren ver el error completo que arroja, descomenten la siguiente línea de código y denle Run\n",
    "\n",
    "# dfh['First Score'].mean()"
   ]
  },
  {
   "cell_type": "markdown",
   "id": "0077d78f-8eb3-446d-88c0-c99cea6d3bf3",
   "metadata": {},
   "source": [
    "<div class=\"alert alert-danger alertdanger\" style=\"margin-top: 10px\">\n",
    "<h5> Se obtendría un error como el siguiente (en realidad arroja un error mas largo pero no es necesario poner acá todo eso) </h5>\n",
    "\n",
    "<p> TypeError: unsupported operand type(s) for +: 'int' and 'str'</p>\n",
    "\n",
    "</div>"
   ]
  },
  {
   "cell_type": "markdown",
   "id": "b62c9a5e-a50b-4731-a327-757e2c77b936",
   "metadata": {},
   "source": [
    "<p> Nos arroja error dado que no se puede calcular la media sobre unos datos tipo 'object'. Tenemos que corregir esto cambiando el tipo de dato a numérico. En este caso, a tipo entero o flotante, Pasémoslos a tipo flotante. Para ello se utiliza el método astype() </p>"
   ]
  },
  {
   "cell_type": "code",
   "execution_count": 164,
   "id": "16ab7df2-ab98-48e8-9e29-c7772af6c02b",
   "metadata": {},
   "outputs": [],
   "source": [
    "dfh[['First Score','Second Score','Third Score']]=dfh[['First Score','Second Score','Third Score']].astype('float')"
   ]
  },
  {
   "cell_type": "code",
   "execution_count": 165,
   "id": "8c7817a9-b764-4e5e-b43d-7c04610e5a25",
   "metadata": {},
   "outputs": [
    {
     "data": {
      "text/plain": [
       "Subject          object\n",
       "First Score     float64\n",
       "Second Score    float64\n",
       "Third Score     float64\n",
       "dtype: object"
      ]
     },
     "execution_count": 165,
     "metadata": {},
     "output_type": "execute_result"
    }
   ],
   "source": [
    "## Verificando que efectivamente las columnas deseadas hayan cambiado a datos tipo float\n",
    "dfh.dtypes"
   ]
  },
  {
   "cell_type": "code",
   "execution_count": 166,
   "id": "37bbde8c-73a8-4d53-ad6f-e6be7800eae1",
   "metadata": {},
   "outputs": [
    {
     "name": "stdout",
     "output_type": "stream",
     "text": [
      "La suma y promedio de los valores de la columna Second Score son: 378.0 y 54.0 , respectivamente.\n"
     ]
    }
   ],
   "source": [
    "#Ya podemos ejecutar cualquier operación numérica sobre esas columnas sin que haya error:\n",
    "suma=dfh['Second Score'].sum()\n",
    "avg=dfh['Second Score'].mean()\n",
    "print(\"La suma y promedio de los valores de la columna Second Score son:\",suma,\"y\",avg,\", respectivamente.\") "
   ]
  },
  {
   "cell_type": "markdown",
   "id": "59f1c419-634c-4b2d-aa80-b2112ac5f621",
   "metadata": {},
   "source": [
    "#### Y eso es lo que se conoce como Formatting o dar formato a los datos, en resumen, revisar y asegurar que su formato sea el correcto (int, float, text u otro)."
   ]
  },
  {
   "cell_type": "markdown",
   "id": "f43c110e-8fe1-425f-9300-deee7a002e46",
   "metadata": {},
   "source": [
    "<h3>----------------------------------------------------------------3. Normalización de los datos---------------------------------------------------------</h3>"
   ]
  },
  {
   "cell_type": "markdown",
   "id": "40443db9-34e6-4918-8d5b-62280984b023",
   "metadata": {},
   "source": [
    "<p>La normalización es el proceso de transformar los valores de algunas variables dentro de un rango similar. La normalización típica incluye el redimensionado de las variables para que el promedio sea 0 y la varianza 1, o para que los valores del rango estén entre 0 y 1. </p>"
   ]
  },
  {
   "cell_type": "markdown",
   "id": "d6a4bf63-74e5-4db6-b096-02207d8b49ee",
   "metadata": {},
   "source": [
    "<p>Existen varios métodos, pero acá listo algunos: </p>\n",
    "<p>Uno es el escalamiento simple, que consiste dividir cada valor de una columna, entre el valor máximo de la misma: Xnew= Xactual/Xmax </p>\n",
    "<p>Otro es el método Min-Max:  Xnew= (Xactual-Xmax)/(Xmax-Xmin) </p>\n",
    "<p>Otro es el método Z-score:  Xnew= (Xactual- μ)/σ </p>\n",
    "\n",
    "<p>Naturalmente pueden haber otras formas de normaizar los datos y dependerá del caso particular del dataset que se tenga; por ejemplo: si en un conjunto de datos se tienen valores de tiempo expresados unos en periodos anuales, otros semanales y otros mensuales, habrá que pasarlos a una misma unidad para, si se quiere, poder compararlos. </p>"
   ]
  },
  {
   "cell_type": "code",
   "execution_count": 167,
   "id": "c9d8879e-d38a-4fe2-aec2-f8185470f3fe",
   "metadata": {},
   "outputs": [
    {
     "data": {
      "text/html": [
       "<div>\n",
       "<style scoped>\n",
       "    .dataframe tbody tr th:only-of-type {\n",
       "        vertical-align: middle;\n",
       "    }\n",
       "\n",
       "    .dataframe tbody tr th {\n",
       "        vertical-align: top;\n",
       "    }\n",
       "\n",
       "    .dataframe thead th {\n",
       "        text-align: right;\n",
       "    }\n",
       "</style>\n",
       "<table border=\"1\" class=\"dataframe\">\n",
       "  <thead>\n",
       "    <tr style=\"text-align: right;\">\n",
       "      <th></th>\n",
       "      <th>First Score</th>\n",
       "      <th>Second Score</th>\n",
       "      <th>Third Score</th>\n",
       "    </tr>\n",
       "  </thead>\n",
       "  <tbody>\n",
       "    <tr>\n",
       "      <th>0</th>\n",
       "      <td>100</td>\n",
       "      <td>4.1</td>\n",
       "      <td>80</td>\n",
       "    </tr>\n",
       "    <tr>\n",
       "      <th>1</th>\n",
       "      <td>90</td>\n",
       "      <td>3.5</td>\n",
       "      <td>85</td>\n",
       "    </tr>\n",
       "    <tr>\n",
       "      <th>2</th>\n",
       "      <td>88</td>\n",
       "      <td>3.8</td>\n",
       "      <td>80</td>\n",
       "    </tr>\n",
       "    <tr>\n",
       "      <th>3</th>\n",
       "      <td>95</td>\n",
       "      <td>4.3</td>\n",
       "      <td>91</td>\n",
       "    </tr>\n",
       "    <tr>\n",
       "      <th>4</th>\n",
       "      <td>80</td>\n",
       "      <td>3.0</td>\n",
       "      <td>40</td>\n",
       "    </tr>\n",
       "    <tr>\n",
       "      <th>5</th>\n",
       "      <td>88</td>\n",
       "      <td>2.7</td>\n",
       "      <td>75</td>\n",
       "    </tr>\n",
       "    <tr>\n",
       "      <th>6</th>\n",
       "      <td>79</td>\n",
       "      <td>2.9</td>\n",
       "      <td>68</td>\n",
       "    </tr>\n",
       "  </tbody>\n",
       "</table>\n",
       "</div>"
      ],
      "text/plain": [
       "   First Score  Second Score  Third Score\n",
       "0          100           4.1           80\n",
       "1           90           3.5           85\n",
       "2           88           3.8           80\n",
       "3           95           4.3           91\n",
       "4           80           3.0           40\n",
       "5           88           2.7           75\n",
       "6           79           2.9           68"
      ]
     },
     "execution_count": 167,
     "metadata": {},
     "output_type": "execute_result"
    }
   ],
   "source": [
    "## Tengamos ahora este dataframe\n",
    "dict = {'First Score':[100, 90, 88, 95, 80, 88, 79],\n",
    "        'Second Score': [4.1, 3.5, 3.8, 4.3, 3.0, 2.7, 2.9],\n",
    "        'Third Score':[80, 85, 80, 91, 40, 75, 68]}\n",
    "  \n",
    "# creating a dataframe from dictionary\n",
    "dfi = pd.DataFrame(dict)\n",
    "dfi"
   ]
  },
  {
   "cell_type": "code",
   "execution_count": 27,
   "id": "d79b9207-2ca7-4296-b394-bafe28280641",
   "metadata": {},
   "outputs": [
    {
     "data": {
      "text/plain": [
       "First Score       int64\n",
       "Second Score    float64\n",
       "Third Score       int64\n",
       "dtype: object"
      ]
     },
     "execution_count": 27,
     "metadata": {},
     "output_type": "execute_result"
    }
   ],
   "source": [
    "dfi.dtypes"
   ]
  },
  {
   "cell_type": "markdown",
   "id": "25547060-1358-4a8b-9157-ab1a3cbd054e",
   "metadata": {},
   "source": [
    "<H5> Dado que los puntajes en la columna 'First Score' y 'Third Score' están en escala de 0 a 100 y los de 'Second Score' de 1 a 5 ¿Cómo comparar de manera correcta los valores de ambas columnas?\n",
    "¿En cuál de las dos columnas los puntajes registran mejor rendimiento? Para ello es que sirve la normalización de datos. Usemos el método de escalamiento simple</H5>"
   ]
  },
  {
   "cell_type": "markdown",
   "id": "18f29a1e-d306-444a-8222-e9d6c398b158",
   "metadata": {},
   "source": [
    "##### El método se aplica así:\n",
    "##### df['ColumnnName']=df['ColumnnName']/df['ColumnnName'].max()"
   ]
  },
  {
   "cell_type": "code",
   "execution_count": 168,
   "id": "1585197b-f414-4e6f-9004-7cd0807fe373",
   "metadata": {},
   "outputs": [
    {
     "data": {
      "text/html": [
       "<div>\n",
       "<style scoped>\n",
       "    .dataframe tbody tr th:only-of-type {\n",
       "        vertical-align: middle;\n",
       "    }\n",
       "\n",
       "    .dataframe tbody tr th {\n",
       "        vertical-align: top;\n",
       "    }\n",
       "\n",
       "    .dataframe thead th {\n",
       "        text-align: right;\n",
       "    }\n",
       "</style>\n",
       "<table border=\"1\" class=\"dataframe\">\n",
       "  <thead>\n",
       "    <tr style=\"text-align: right;\">\n",
       "      <th></th>\n",
       "      <th>First Score</th>\n",
       "      <th>Second Score</th>\n",
       "      <th>Third Score</th>\n",
       "    </tr>\n",
       "  </thead>\n",
       "  <tbody>\n",
       "    <tr>\n",
       "      <th>0</th>\n",
       "      <td>1.00</td>\n",
       "      <td>0.953488</td>\n",
       "      <td>0.879121</td>\n",
       "    </tr>\n",
       "    <tr>\n",
       "      <th>1</th>\n",
       "      <td>0.90</td>\n",
       "      <td>0.813953</td>\n",
       "      <td>0.934066</td>\n",
       "    </tr>\n",
       "    <tr>\n",
       "      <th>2</th>\n",
       "      <td>0.88</td>\n",
       "      <td>0.883721</td>\n",
       "      <td>0.879121</td>\n",
       "    </tr>\n",
       "    <tr>\n",
       "      <th>3</th>\n",
       "      <td>0.95</td>\n",
       "      <td>1.000000</td>\n",
       "      <td>1.000000</td>\n",
       "    </tr>\n",
       "    <tr>\n",
       "      <th>4</th>\n",
       "      <td>0.80</td>\n",
       "      <td>0.697674</td>\n",
       "      <td>0.439560</td>\n",
       "    </tr>\n",
       "    <tr>\n",
       "      <th>5</th>\n",
       "      <td>0.88</td>\n",
       "      <td>0.627907</td>\n",
       "      <td>0.824176</td>\n",
       "    </tr>\n",
       "    <tr>\n",
       "      <th>6</th>\n",
       "      <td>0.79</td>\n",
       "      <td>0.674419</td>\n",
       "      <td>0.747253</td>\n",
       "    </tr>\n",
       "  </tbody>\n",
       "</table>\n",
       "</div>"
      ],
      "text/plain": [
       "   First Score  Second Score  Third Score\n",
       "0         1.00      0.953488     0.879121\n",
       "1         0.90      0.813953     0.934066\n",
       "2         0.88      0.883721     0.879121\n",
       "3         0.95      1.000000     1.000000\n",
       "4         0.80      0.697674     0.439560\n",
       "5         0.88      0.627907     0.824176\n",
       "6         0.79      0.674419     0.747253"
      ]
     },
     "execution_count": 168,
     "metadata": {},
     "output_type": "execute_result"
    }
   ],
   "source": [
    "# Hagámoslo mediante un ciclo for\n",
    "for column in dfi:\n",
    "    dfi[column]=dfi[column]/dfi[column].max()\n",
    "dfi    "
   ]
  },
  {
   "cell_type": "markdown",
   "id": "aa940e9f-01e3-4685-bafa-bb52672425b8",
   "metadata": {},
   "source": [
    "<H5> De esta forma ya es más fácil comparar los scores de cada columna entre sí.</H5>"
   ]
  },
  {
   "cell_type": "code",
   "execution_count": 169,
   "id": "3894bbf0-7ae0-4c3c-88b9-9a78dd4e16f2",
   "metadata": {},
   "outputs": [
    {
     "data": {
      "text/html": [
       "<div>\n",
       "<style scoped>\n",
       "    .dataframe tbody tr th:only-of-type {\n",
       "        vertical-align: middle;\n",
       "    }\n",
       "\n",
       "    .dataframe tbody tr th {\n",
       "        vertical-align: top;\n",
       "    }\n",
       "\n",
       "    .dataframe thead th {\n",
       "        text-align: right;\n",
       "    }\n",
       "</style>\n",
       "<table border=\"1\" class=\"dataframe\">\n",
       "  <thead>\n",
       "    <tr style=\"text-align: right;\">\n",
       "      <th></th>\n",
       "      <th>length</th>\n",
       "      <th>width</th>\n",
       "      <th>height</th>\n",
       "    </tr>\n",
       "  </thead>\n",
       "  <tbody>\n",
       "    <tr>\n",
       "      <th>0</th>\n",
       "      <td>168.8</td>\n",
       "      <td>64.1</td>\n",
       "      <td>48.8</td>\n",
       "    </tr>\n",
       "    <tr>\n",
       "      <th>1</th>\n",
       "      <td>168.8</td>\n",
       "      <td>64.1</td>\n",
       "      <td>48.8</td>\n",
       "    </tr>\n",
       "    <tr>\n",
       "      <th>2</th>\n",
       "      <td>171.2</td>\n",
       "      <td>65.5</td>\n",
       "      <td>52.4</td>\n",
       "    </tr>\n",
       "    <tr>\n",
       "      <th>3</th>\n",
       "      <td>176.6</td>\n",
       "      <td>66.2</td>\n",
       "      <td>54.3</td>\n",
       "    </tr>\n",
       "    <tr>\n",
       "      <th>4</th>\n",
       "      <td>176.6</td>\n",
       "      <td>66.4</td>\n",
       "      <td>54.3</td>\n",
       "    </tr>\n",
       "    <tr>\n",
       "      <th>...</th>\n",
       "      <td>...</td>\n",
       "      <td>...</td>\n",
       "      <td>...</td>\n",
       "    </tr>\n",
       "    <tr>\n",
       "      <th>200</th>\n",
       "      <td>188.8</td>\n",
       "      <td>68.9</td>\n",
       "      <td>55.5</td>\n",
       "    </tr>\n",
       "    <tr>\n",
       "      <th>201</th>\n",
       "      <td>188.8</td>\n",
       "      <td>68.8</td>\n",
       "      <td>55.5</td>\n",
       "    </tr>\n",
       "    <tr>\n",
       "      <th>202</th>\n",
       "      <td>188.8</td>\n",
       "      <td>68.9</td>\n",
       "      <td>55.5</td>\n",
       "    </tr>\n",
       "    <tr>\n",
       "      <th>203</th>\n",
       "      <td>188.8</td>\n",
       "      <td>68.9</td>\n",
       "      <td>55.5</td>\n",
       "    </tr>\n",
       "    <tr>\n",
       "      <th>204</th>\n",
       "      <td>188.8</td>\n",
       "      <td>68.9</td>\n",
       "      <td>55.5</td>\n",
       "    </tr>\n",
       "  </tbody>\n",
       "</table>\n",
       "<p>205 rows × 3 columns</p>\n",
       "</div>"
      ],
      "text/plain": [
       "     length  width  height\n",
       "0     168.8   64.1    48.8\n",
       "1     168.8   64.1    48.8\n",
       "2     171.2   65.5    52.4\n",
       "3     176.6   66.2    54.3\n",
       "4     176.6   66.4    54.3\n",
       "..      ...    ...     ...\n",
       "200   188.8   68.9    55.5\n",
       "201   188.8   68.8    55.5\n",
       "202   188.8   68.9    55.5\n",
       "203   188.8   68.9    55.5\n",
       "204   188.8   68.9    55.5\n",
       "\n",
       "[205 rows x 3 columns]"
      ]
     },
     "execution_count": 169,
     "metadata": {},
     "output_type": "execute_result"
    }
   ],
   "source": [
    "#### Traigamos del dataset inicial dcars tres columnas: las de longitud, ancho y altura\n",
    "dcars[['length','width','height']]"
   ]
  },
  {
   "cell_type": "markdown",
   "id": "bb5b9056-df15-46c1-8add-bae8783194d3",
   "metadata": {},
   "source": [
    "<H5> La normalización de los datos no solo sirve para poder compararlos mejor entre sí. Cuando se quiere, por ejemplo, construir un modelo predictivo que tiene como entrada ciertas variables, es bueno normalizar esas variables en caso se encuentren en rangos de valores muy diferentes y se desee que tengan el mismo peso dentro del modelo; otro caso puede ser en el que efectivamente se desee que algunas variables si tengan más peso que otras, para lo cual ya será ajustar las variables de entrada.</H5>"
   ]
  },
  {
   "cell_type": "markdown",
   "id": "d99d27ea-0ac8-4d15-8248-84ecc70f0291",
   "metadata": {},
   "source": [
    "<H5>Es el caso de si quisiéramos hacer un modelo con las variables length, width and height del dataframe dcars, sería bueno tenerlas todas en un rango parecido para alimentar dicho modelo. Pero como ese no es el objeto de este Jupyter notebook, no se hace acá eso. ja! </H5>"
   ]
  },
  {
   "cell_type": "markdown",
   "id": "60f2ca40-b302-4899-b5d5-c9f764932a1f",
   "metadata": {},
   "source": [
    "<h3>----------------------------------------------------------------4. Discretización de los datos---------------------------------------------------------</h3>"
   ]
  },
  {
   "cell_type": "markdown",
   "id": "86eebf8a-0a34-4261-ad57-a1b3a4d03113",
   "metadata": {},
   "source": [
    "<h5>¿Qué es la discretización?\n",
    "Discretizar es el proceso de transformar variables numericas continuas en variables discretas, esto es, disponerlas en 'depósitos' o 'contenedores' discretos para el análisis agrupado.</h5>"
   ]
  },
  {
   "cell_type": "code",
   "execution_count": 170,
   "id": "37a0f0b9-caef-4a89-b272-5c9851775014",
   "metadata": {},
   "outputs": [
    {
     "data": {
      "text/plain": [
       "<bound method Series.info of 0      111\n",
       "1      111\n",
       "2      154\n",
       "3      102\n",
       "4      115\n",
       "      ... \n",
       "200    114\n",
       "201    160\n",
       "202    134\n",
       "203    106\n",
       "204    114\n",
       "Name: horsepower, Length: 205, dtype: object>"
      ]
     },
     "execution_count": 170,
     "metadata": {},
     "output_type": "execute_result"
    }
   ],
   "source": [
    "### Hagamos un ejemplo. Traigamos la columna horsepower del dataframe dcars\n",
    "dcars['horsepower'].info"
   ]
  },
  {
   "cell_type": "markdown",
   "id": "37a58212-a25f-425e-8bbb-b21e0a01ce02",
   "metadata": {},
   "source": [
    "##### Vemos de una vez que nos dice que los datos son tipo 'object', lo cual hay que corregir ya que se ve que son números lo que contiene esa columna. Aplicamos lo visto antes y cambiemoslo a tipo 'float'"
   ]
  },
  {
   "cell_type": "code",
   "execution_count": 171,
   "id": "0ffbde4f-436b-44da-83eb-0cc878811deb",
   "metadata": {},
   "outputs": [],
   "source": [
    "####  Cambiarlos a tipo 'float'\n",
    "dcars['horsepower']=dcars['horsepower'].astype('float')\n",
    "#### Reemplazando los NaN value por la media de la columna.\n",
    "dcars['horsepower'].replace(np.nan, dcars['horsepower'].mean(), inplace=True)"
   ]
  },
  {
   "cell_type": "code",
   "execution_count": 172,
   "id": "21d11d65-4fd9-4db2-b1d0-0461fe6410f6",
   "metadata": {},
   "outputs": [
    {
     "data": {
      "text/plain": [
       "<bound method Series.info of 0      111.0\n",
       "1      111.0\n",
       "2      154.0\n",
       "3      102.0\n",
       "4      115.0\n",
       "       ...  \n",
       "200    114.0\n",
       "201    160.0\n",
       "202    134.0\n",
       "203    106.0\n",
       "204    114.0\n",
       "Name: horsepower, Length: 205, dtype: float64>"
      ]
     },
     "execution_count": 172,
     "metadata": {},
     "output_type": "execute_result"
    }
   ],
   "source": [
    "### Verificando que ya hayan quedado los datos tipo númerom en este casi 'float'\n",
    "dcars.horsepower.info"
   ]
  },
  {
   "cell_type": "code",
   "execution_count": 129,
   "id": "be54b81b-e133-42f0-95e6-56b7e287e685",
   "metadata": {},
   "outputs": [],
   "source": [
    "### Importando librerías para graficar\n",
    "import matplotlib.pyplot as plt\n",
    "%matplotlib inline"
   ]
  },
  {
   "cell_type": "markdown",
   "id": "c1ea23f7-b9cd-47c1-947a-871d2afa51b5",
   "metadata": {},
   "source": [
    "##### Digamos que queremos dividir el rango de valores de la columna horsepower en x grupos. Para esto nos ayuda la función linspace.\n",
    "##### Esta recibe tres parámetros, el valor de inicio del rango, el valor final del rango y el número de grupos en que queremos se divida dicho rango."
   ]
  },
  {
   "cell_type": "markdown",
   "id": "8beff1f1-db99-42fc-864a-73776b7541bb",
   "metadata": {},
   "source": [
    "El valor de inicio del rango será el valor mínimo de caballos de fuerza en la columna, luego: start_value=min(df[\"horsepower\"]).\n",
    "\n",
    "El valor final del rango será el valor máximo de caballos de fuerza en la columna, luego: end_value=max(df[\"horsepower\"]).\n",
    "\n",
    "Debido a que estamos construyendo 3 contenedores de igual longitud debe haber 4 divisores."
   ]
  },
  {
   "cell_type": "code",
   "execution_count": 130,
   "id": "9e5cff7c-9a36-47da-b258-808cca991f9c",
   "metadata": {},
   "outputs": [
    {
     "data": {
      "text/plain": [
       "array([ 48., 128., 208., 288.])"
      ]
     },
     "execution_count": 130,
     "metadata": {},
     "output_type": "execute_result"
    }
   ],
   "source": [
    "bins=np.linspace(min(dcars[\"horsepower\"]),max(dcars[\"horsepower\"]),4)\n",
    "bins"
   ]
  },
  {
   "cell_type": "code",
   "execution_count": 173,
   "id": "a2691c2e-ba56-4751-a1cd-a489b3c78dc8",
   "metadata": {},
   "outputs": [
    {
     "data": {
      "image/png": "[encoded data removed]",
      "text/plain": [
       "<Figure size 800x600 with 1 Axes>"
      ]
     },
     "metadata": {},
     "output_type": "display_data"
    }
   ],
   "source": [
    "#####\n",
    "plt.subplots(figsize=(8,6))  ##Definiendo el pedazo de pantalla que quiero para hacer la gráfica\n",
    "plt.hist(dcars['horsepower'], bins) #La propia gráfica\n",
    "plt.title('Histogram for the horsepower feature') # add a title to the histogram\n",
    "plt.ylabel('Count') # add y-label\n",
    "plt.xlabel('Horsepower') # add x-label\n",
    "plt.ticklabel_format(style='plain') #plain sirve para que en los ejes no coloque notaciones cientificas o algo así, sino el propio número que es.\n",
    "plt.xticks(bins)  ## sirve para que en el eje x me muestre las etiquetas de acuerdo con el contenedor bins definido\n",
    "plt.show()"
   ]
  },
  {
   "cell_type": "code",
   "execution_count": 118,
   "id": "72394a12-51db-4b0e-acbc-392632f65f9e",
   "metadata": {},
   "outputs": [
    {
     "data": {
      "text/plain": [
       "40"
      ]
     },
     "execution_count": 118,
     "metadata": {},
     "output_type": "execute_result"
    }
   ],
   "source": [
    "### Comprobando mediante filtro lo que vemos visualmente, es decir, que en el rango de 128 a 208 HP hay 40 registros.\n",
    "a=dcars.loc[(dcars['horsepower']>128) & (dcars['horsepower']<=208)]\n",
    "a.shape[0]"
   ]
  },
  {
   "cell_type": "markdown",
   "id": "4a5bb3e9-def2-4e53-bea2-73c910f8e025",
   "metadata": {},
   "source": [
    "##### Podemos finalmente categorizar los grupos si se quiere. Clasificar el nivel de hp en alto, medio y bajo."
   ]
  },
  {
   "cell_type": "code",
   "execution_count": 174,
   "id": "02384878-9176-4d5c-ac9b-f565c44945c3",
   "metadata": {},
   "outputs": [],
   "source": [
    "group = ['Bajo', 'Medio', 'Alto']"
   ]
  },
  {
   "cell_type": "code",
   "execution_count": 175,
   "id": "67829d95-0603-4392-8ded-a5387855a30a",
   "metadata": {},
   "outputs": [],
   "source": [
    "dcars['horsepower-group'] = pd.cut(dcars['horsepower'], bins, labels=group, include_lowest=True )"
   ]
  },
  {
   "cell_type": "code",
   "execution_count": 176,
   "id": "418e5cf7-b527-405c-830b-82f9ed734c1f",
   "metadata": {},
   "outputs": [
    {
     "data": {
      "text/html": [
       "<div>\n",
       "<style scoped>\n",
       "    .dataframe tbody tr th:only-of-type {\n",
       "        vertical-align: middle;\n",
       "    }\n",
       "\n",
       "    .dataframe tbody tr th {\n",
       "        vertical-align: top;\n",
       "    }\n",
       "\n",
       "    .dataframe thead th {\n",
       "        text-align: right;\n",
       "    }\n",
       "</style>\n",
       "<table border=\"1\" class=\"dataframe\">\n",
       "  <thead>\n",
       "    <tr style=\"text-align: right;\">\n",
       "      <th></th>\n",
       "      <th>horsepower</th>\n",
       "      <th>horsepower-group</th>\n",
       "    </tr>\n",
       "  </thead>\n",
       "  <tbody>\n",
       "    <tr>\n",
       "      <th>0</th>\n",
       "      <td>111.0</td>\n",
       "      <td>Bajo</td>\n",
       "    </tr>\n",
       "    <tr>\n",
       "      <th>1</th>\n",
       "      <td>111.0</td>\n",
       "      <td>Bajo</td>\n",
       "    </tr>\n",
       "    <tr>\n",
       "      <th>2</th>\n",
       "      <td>154.0</td>\n",
       "      <td>Medio</td>\n",
       "    </tr>\n",
       "    <tr>\n",
       "      <th>3</th>\n",
       "      <td>102.0</td>\n",
       "      <td>Bajo</td>\n",
       "    </tr>\n",
       "    <tr>\n",
       "      <th>4</th>\n",
       "      <td>115.0</td>\n",
       "      <td>Bajo</td>\n",
       "    </tr>\n",
       "  </tbody>\n",
       "</table>\n",
       "</div>"
      ],
      "text/plain": [
       "   horsepower horsepower-group\n",
       "0       111.0             Bajo\n",
       "1       111.0             Bajo\n",
       "2       154.0            Medio\n",
       "3       102.0             Bajo\n",
       "4       115.0             Bajo"
      ]
     },
     "execution_count": 176,
     "metadata": {},
     "output_type": "execute_result"
    }
   ],
   "source": [
    "dcars[['horsepower','horsepower-group']].head()"
   ]
  },
  {
   "cell_type": "code",
   "execution_count": 177,
   "id": "44230a02-8f65-4102-a195-b24fd8a5a35a",
   "metadata": {},
   "outputs": [
    {
     "data": {
      "text/plain": [
       "Text(0.5, 1.0, 'Horsepower group')"
      ]
     },
     "execution_count": 177,
     "metadata": {},
     "output_type": "execute_result"
    },
    {
     "data": {
      "image/png": "[encoded data removed]",
      "text/plain": [
       "<Figure size 640x480 with 1 Axes>"
      ]
     },
     "metadata": {},
     "output_type": "display_data"
    }
   ],
   "source": [
    "plt.bar(group, dcars[\"horsepower-group\"].value_counts()) \n",
    "plt.xlabel(\"Horsepower\")\n",
    "plt.ylabel(\"Count\")\n",
    "plt.title(\"Horsepower group\")"
   ]
  },
  {
   "cell_type": "markdown",
   "id": "cd86a155-952c-43df-a9c2-8ea7fe1a7a19",
   "metadata": {},
   "source": [
    "#### Y hasta acá va este tema.\n",
    "\n",
    "## Author\n",
    "<a href=\"https://www.linkedin.com/in/iv%C3%A1n-pinilla-%C3%A1vila-21bb45121/\" target=\"_blank\"><font size = 4>Iván P. </a>\n"
   ]
  }
 ],
 "metadata": {
  "kernelspec": {
   "display_name": "Python 3 (ipykernel)",
   "language": "python",
   "name": "python3"
  },
  "language_info": {
   "codemirror_mode": {
    "name": "ipython",
    "version": 3
   },
   "file_extension": ".py",
   "mimetype": "text/x-python",
   "name": "python",
   "nbconvert_exporter": "python",
   "pygments_lexer": "ipython3",
   "version": "3.9.13"
  }
 },
 "nbformat": 4,
 "nbformat_minor": 5
}
